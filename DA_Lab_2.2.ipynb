{
 "cells": [
  {
   "cell_type": "code",
   "execution_count": 1,
   "id": "42d186a2",
   "metadata": {},
   "outputs": [],
   "source": [
    "import numpy  as np\n",
    "import pandas as pd\n",
    "import seaborn as sns\n",
    "import matplotlib.pyplot as plt\n",
    "\n",
    "\n",
    "from sklearn.cluster import KMeans\n",
    "from PIL import Image\n",
    "\n",
    "from sklearn.cluster import KMeans\n",
    "from sklearn.decomposition import PCA\n",
    "from sklearn.manifold import TSNE\n",
    "from sklearn.preprocessing import MinMaxScaler"
   ]
  },
  {
   "cell_type": "code",
   "execution_count": 2,
   "id": "0984b354",
   "metadata": {},
   "outputs": [
    {
     "name": "stdout",
     "output_type": "stream",
     "text": [
      "Quantizing image with 64 levels:\n"
     ]
    },
    {
     "name": "stderr",
     "output_type": "stream",
     "text": [
      "C:\\Users\\Olga\\anaconda3\\Lib\\site-packages\\joblib\\externals\\loky\\backend\\context.py:110: UserWarning: Could not find the number of physical cores for the following reason:\n",
      "found 0 physical cores < 1\n",
      "Returning the number of logical cores instead. You can silence this warning by setting LOKY_MAX_CPU_COUNT to the number of cores you want to use.\n",
      "  warnings.warn(\n",
      "  File \"C:\\Users\\Olga\\anaconda3\\Lib\\site-packages\\joblib\\externals\\loky\\backend\\context.py\", line 217, in _count_physical_cores\n",
      "    raise ValueError(\n"
     ]
    },
    {
     "name": "stdout",
     "output_type": "stream",
     "text": [
      "Quantizing image with 32 levels:\n",
      "Quantizing image with 16 levels:\n",
      "Quantizing image with 8 levels:\n",
      "Press Enter to close the images...\n"
     ]
    },
    {
     "data": {
      "text/plain": [
       "''"
      ]
     },
     "execution_count": 2,
     "metadata": {},
     "output_type": "execute_result"
    }
   ],
   "source": [
    "def quantize_image(image_path, depth_levels):\n",
    "    img = Image.open(image_path)\n",
    "    img = img.resize((300, 300))\n",
    "\n",
    "    # Перетворення зображення до 1D-масиву\n",
    "    pixels = np.array(img).reshape((-1, 3))\n",
    "\n",
    "    # Використання k-means для кластеризації пікселів\n",
    "    kmeans = KMeans(n_clusters=depth_levels, n_init=10)  # Явно встановити n_init\n",
    "    kmeans.fit(pixels)\n",
    "\n",
    "    # Отримати центри кластерів та присвоїти кожному пікселю ближній центр кластера\n",
    "    centers = np.array(kmeans.cluster_centers_, dtype=np.uint8)\n",
    "    quantized_pixels = centers[kmeans.labels_]\n",
    "\n",
    "    # Відновлення форми зображення\n",
    "    quantized_img = Image.fromarray(quantized_pixels.reshape(img.size[1], img.size[0], 3))\n",
    "\n",
    "    # Відобразити квантоване зображення\n",
    "    quantized_img.show(title=f'Quantized Image ({depth_levels} levels)')\n",
    "\n",
    "image_path = 'C:/Users/Olga/Downloads/photo_2024-01-21_14-02-31.jpg'\n",
    "\n",
    "depth_levels = [64, 32, 16, 8]\n",
    "\n",
    "img = Image.open(image_path)\n",
    "img = img.resize((300, 300))\n",
    "img.show(title='Original Image')\n",
    "\n",
    "for depth in depth_levels:\n",
    "    print(f\"Quantizing image with {depth} levels:\")\n",
    "    quantize_image(image_path, depth)\n",
    "\n",
    "input(\"Press Enter to close the images...\")"
   ]
  },
  {
   "cell_type": "code",
   "execution_count": null,
   "id": "f40739bb",
   "metadata": {},
   "outputs": [],
   "source": []
  }
 ],
 "metadata": {
  "kernelspec": {
   "display_name": "Python 3 (ipykernel)",
   "language": "python",
   "name": "python3"
  },
  "language_info": {
   "codemirror_mode": {
    "name": "ipython",
    "version": 3
   },
   "file_extension": ".py",
   "mimetype": "text/x-python",
   "name": "python",
   "nbconvert_exporter": "python",
   "pygments_lexer": "ipython3",
   "version": "3.11.5"
  }
 },
 "nbformat": 4,
 "nbformat_minor": 5
}
