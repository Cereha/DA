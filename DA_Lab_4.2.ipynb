{
 "cells": [
  {
   "cell_type": "code",
   "execution_count": 6,
   "id": "fbd64838",
   "metadata": {},
   "outputs": [],
   "source": [
    "from transformers import pipeline, GPT2LMHeadModel, GPT2Tokenizer"
   ]
  },
  {
   "cell_type": "code",
   "execution_count": null,
   "id": "f7d57706",
   "metadata": {},
   "outputs": [],
   "source": [
    "# Завантаження моделі для генерації тексту\n",
    "text_generator = pipeline(\"text-generation\", model=\"EleutherAI/gpt-neo-2.7B\")"
   ]
  },
  {
   "cell_type": "code",
   "execution_count": null,
   "id": "2ab7d94d",
   "metadata": {},
   "outputs": [],
   "source": [
    "# Приклад використання\n",
    "seed_text = \"На сході сонце встає\"\n",
    "generated_text = text_generator(seed_text, max_length=100, num_return_sequences=1)[0]['generated_text']\n"
   ]
  },
  {
   "cell_type": "code",
   "execution_count": null,
   "id": "61ec550f",
   "metadata": {},
   "outputs": [],
   "source": [
    "print(generated_text)"
   ]
  }
 ],
 "metadata": {
  "kernelspec": {
   "display_name": "Python 3 (ipykernel)",
   "language": "python",
   "name": "python3"
  },
  "language_info": {
   "codemirror_mode": {
    "name": "ipython",
    "version": 3
   },
   "file_extension": ".py",
   "mimetype": "text/x-python",
   "name": "python",
   "nbconvert_exporter": "python",
   "pygments_lexer": "ipython3",
   "version": "3.11.5"
  }
 },
 "nbformat": 4,
 "nbformat_minor": 5
}
